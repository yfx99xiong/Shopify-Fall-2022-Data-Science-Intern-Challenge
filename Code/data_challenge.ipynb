{
 "cells": [
  {
   "cell_type": "code",
   "execution_count": 1,
   "metadata": {
    "collapsed": true,
    "pycharm": {
     "name": "#%%\n"
    }
   },
   "outputs": [],
   "source": [
    "# import library\n",
    "import pandas as pd"
   ]
  },
  {
   "cell_type": "code",
   "execution_count": 2,
   "outputs": [
    {
     "data": {
      "text/plain": "      order_id  shop_id  user_id  order_amount  total_items payment_method  \\\n0            1       53      746           224            2           cash   \n1            2       92      925            90            1           cash   \n2            3       44      861           144            1           cash   \n3            4       18      935           156            1    credit_card   \n4            5       18      883           156            1    credit_card   \n...        ...      ...      ...           ...          ...            ...   \n4995      4996       73      993           330            2          debit   \n4996      4997       48      789           234            2           cash   \n4997      4998       56      867           351            3           cash   \n4998      4999       60      825           354            2    credit_card   \n4999      5000       44      734           288            2          debit   \n\n               created_at  \n0     2017-03-13 12:36:56  \n1     2017-03-03 17:38:52  \n2      2017-03-14 4:23:56  \n3     2017-03-26 12:43:37  \n4      2017-03-01 4:35:11  \n...                   ...  \n4995  2017-03-30 13:47:17  \n4996  2017-03-16 20:36:16  \n4997   2017-03-19 5:42:42  \n4998  2017-03-16 14:51:18  \n4999  2017-03-18 15:48:18  \n\n[5000 rows x 7 columns]",
      "text/html": "<div>\n<style scoped>\n    .dataframe tbody tr th:only-of-type {\n        vertical-align: middle;\n    }\n\n    .dataframe tbody tr th {\n        vertical-align: top;\n    }\n\n    .dataframe thead th {\n        text-align: right;\n    }\n</style>\n<table border=\"1\" class=\"dataframe\">\n  <thead>\n    <tr style=\"text-align: right;\">\n      <th></th>\n      <th>order_id</th>\n      <th>shop_id</th>\n      <th>user_id</th>\n      <th>order_amount</th>\n      <th>total_items</th>\n      <th>payment_method</th>\n      <th>created_at</th>\n    </tr>\n  </thead>\n  <tbody>\n    <tr>\n      <th>0</th>\n      <td>1</td>\n      <td>53</td>\n      <td>746</td>\n      <td>224</td>\n      <td>2</td>\n      <td>cash</td>\n      <td>2017-03-13 12:36:56</td>\n    </tr>\n    <tr>\n      <th>1</th>\n      <td>2</td>\n      <td>92</td>\n      <td>925</td>\n      <td>90</td>\n      <td>1</td>\n      <td>cash</td>\n      <td>2017-03-03 17:38:52</td>\n    </tr>\n    <tr>\n      <th>2</th>\n      <td>3</td>\n      <td>44</td>\n      <td>861</td>\n      <td>144</td>\n      <td>1</td>\n      <td>cash</td>\n      <td>2017-03-14 4:23:56</td>\n    </tr>\n    <tr>\n      <th>3</th>\n      <td>4</td>\n      <td>18</td>\n      <td>935</td>\n      <td>156</td>\n      <td>1</td>\n      <td>credit_card</td>\n      <td>2017-03-26 12:43:37</td>\n    </tr>\n    <tr>\n      <th>4</th>\n      <td>5</td>\n      <td>18</td>\n      <td>883</td>\n      <td>156</td>\n      <td>1</td>\n      <td>credit_card</td>\n      <td>2017-03-01 4:35:11</td>\n    </tr>\n    <tr>\n      <th>...</th>\n      <td>...</td>\n      <td>...</td>\n      <td>...</td>\n      <td>...</td>\n      <td>...</td>\n      <td>...</td>\n      <td>...</td>\n    </tr>\n    <tr>\n      <th>4995</th>\n      <td>4996</td>\n      <td>73</td>\n      <td>993</td>\n      <td>330</td>\n      <td>2</td>\n      <td>debit</td>\n      <td>2017-03-30 13:47:17</td>\n    </tr>\n    <tr>\n      <th>4996</th>\n      <td>4997</td>\n      <td>48</td>\n      <td>789</td>\n      <td>234</td>\n      <td>2</td>\n      <td>cash</td>\n      <td>2017-03-16 20:36:16</td>\n    </tr>\n    <tr>\n      <th>4997</th>\n      <td>4998</td>\n      <td>56</td>\n      <td>867</td>\n      <td>351</td>\n      <td>3</td>\n      <td>cash</td>\n      <td>2017-03-19 5:42:42</td>\n    </tr>\n    <tr>\n      <th>4998</th>\n      <td>4999</td>\n      <td>60</td>\n      <td>825</td>\n      <td>354</td>\n      <td>2</td>\n      <td>credit_card</td>\n      <td>2017-03-16 14:51:18</td>\n    </tr>\n    <tr>\n      <th>4999</th>\n      <td>5000</td>\n      <td>44</td>\n      <td>734</td>\n      <td>288</td>\n      <td>2</td>\n      <td>debit</td>\n      <td>2017-03-18 15:48:18</td>\n    </tr>\n  </tbody>\n</table>\n<p>5000 rows × 7 columns</p>\n</div>"
     },
     "execution_count": 2,
     "metadata": {},
     "output_type": "execute_result"
    }
   ],
   "source": [
    "data_path = r'D:\\GoogleDownloads\\2019 Winter Data Science Intern Challenge Data Set - Sheet1.csv'\n",
    "df = pd.read_csv(data_path)\n",
    "df"
   ],
   "metadata": {
    "collapsed": false,
    "pycharm": {
     "name": "#%%\n"
    }
   }
  },
  {
   "cell_type": "code",
   "execution_count": 3,
   "outputs": [
    {
     "name": "stdout",
     "output_type": "stream",
     "text": [
      "The wrong average order value (AOV): 3145.13\n"
     ]
    }
   ],
   "source": [
    "wrong_AOV = df['order_amount'].mean()\n",
    "print('The wrong average order value (AOV):', round(wrong_AOV, 2))"
   ],
   "metadata": {
    "collapsed": false,
    "pycharm": {
     "name": "#%%\n"
    }
   }
  },
  {
   "cell_type": "code",
   "execution_count": 4,
   "outputs": [],
   "source": [
    "total_order = df['order_amount'].sum()\n",
    "total_items = df['total_items'].sum()"
   ],
   "metadata": {
    "collapsed": false,
    "pycharm": {
     "name": "#%%\n"
    }
   }
  },
  {
   "cell_type": "code",
   "execution_count": 5,
   "outputs": [
    {
     "name": "stdout",
     "output_type": "stream",
     "text": [
      "The total number of order amount: 15725640\n"
     ]
    }
   ],
   "source": [
    "print('The total number of order amount:', total_order)"
   ],
   "metadata": {
    "collapsed": false,
    "pycharm": {
     "name": "#%%\n"
    }
   }
  },
  {
   "cell_type": "code",
   "execution_count": 6,
   "outputs": [
    {
     "name": "stdout",
     "output_type": "stream",
     "text": [
      "The total number of item: 43936\n"
     ]
    }
   ],
   "source": [
    "print('The total number of item:', total_items)"
   ],
   "metadata": {
    "collapsed": false,
    "pycharm": {
     "name": "#%%\n"
    }
   }
  },
  {
   "cell_type": "code",
   "execution_count": 7,
   "outputs": [
    {
     "name": "stdout",
     "output_type": "stream",
     "text": [
      "The average order value (AOV): 357.92\n"
     ]
    }
   ],
   "source": [
    "AOV = total_order/total_items\n",
    "print('The average order value (AOV):', round(AOV, 2))"
   ],
   "metadata": {
    "collapsed": false,
    "pycharm": {
     "name": "#%%\n"
    }
   }
  },
  {
   "cell_type": "code",
   "execution_count": 7,
   "outputs": [],
   "source": [],
   "metadata": {
    "collapsed": false,
    "pycharm": {
     "name": "#%%\n"
    }
   }
  }
 ],
 "metadata": {
  "kernelspec": {
   "display_name": "Python 3",
   "language": "python",
   "name": "python3"
  },
  "language_info": {
   "codemirror_mode": {
    "name": "ipython",
    "version": 2
   },
   "file_extension": ".py",
   "mimetype": "text/x-python",
   "name": "python",
   "nbconvert_exporter": "python",
   "pygments_lexer": "ipython2",
   "version": "2.7.6"
  }
 },
 "nbformat": 4,
 "nbformat_minor": 0
}